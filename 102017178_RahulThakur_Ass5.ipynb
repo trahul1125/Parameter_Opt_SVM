{
  "cells": [
    {
      "cell_type": "code",
      "execution_count": 2,
      "metadata": {
        "id": "ZzkkqEcijSKN"
      },
      "outputs": [],
      "source": [
        "import pandas as pd\n",
        "import numpy as np\n",
        "import matplotlib.pyplot as plt\n",
        "import seaborn as sns\n",
        "%matplotlib inline\n",
        "from sklearn.model_selection import train_test_split, GridSearchCV\n",
        "from sklearn.svm import SVC\n",
        "from sklearn.metrics import accuracy_score\n",
        "from sklearn.preprocessing import StandardScaler\n",
        "from sklearn.model_selection import learning_curve"
      ]
    },
    {
      "cell_type": "code",
      "execution_count": 18,
      "metadata": {
        "id": "ZENULs68deL_"
      },
      "outputs": [],
      "source": [
        "import pandas as pd\n",
        "\n",
        "\n",
        "data = pd.read_csv('C:/Users/rahul/Downloads/Steel_data.csv')\n",
        "\n",
        "\n",
        "X = data = data.drop(columns=['WeekStatus'])\n",
        "X = data = data.drop(columns=['date'])\n",
        "X = data = data.drop(columns=['Day_of_week'])\n",
        "y = data['Load_Type']\n"
      ]
    },
    {
      "cell_type": "code",
      "execution_count": 19,
      "metadata": {
        "id": "CR_D5EqQilxx"
      },
      "outputs": [],
      "source": [
        "\n",
        "class_dict = {'Light_Load': 1, 'Medium_Load': 2, 'Maximum_Load': 3}\n",
        "\n",
        "X['Load_Type'] = X['Load_Type'].map(class_dict)\n",
        "\n"
      ]
    },
    {
      "cell_type": "code",
      "execution_count": 20,
      "metadata": {
        "colab": {
          "base_uri": "https://localhost:8080/",
          "height": 206
        },
        "id": "TcHYFLCmlass",
        "outputId": "6d077402-0508-4e1a-cfa7-9ab859ea3f0a"
      },
      "outputs": [
        {
          "data": {
            "text/html": [
              "<div>\n",
              "<style scoped>\n",
              "    .dataframe tbody tr th:only-of-type {\n",
              "        vertical-align: middle;\n",
              "    }\n",
              "\n",
              "    .dataframe tbody tr th {\n",
              "        vertical-align: top;\n",
              "    }\n",
              "\n",
              "    .dataframe thead th {\n",
              "        text-align: right;\n",
              "    }\n",
              "</style>\n",
              "<table border=\"1\" class=\"dataframe\">\n",
              "  <thead>\n",
              "    <tr style=\"text-align: right;\">\n",
              "      <th></th>\n",
              "      <th>Usage_kWh</th>\n",
              "      <th>Lagging_Current_Reactive.Power_kVarh</th>\n",
              "      <th>Leading_Current_Reactive_Power_kVarh</th>\n",
              "      <th>CO2(tCO2)</th>\n",
              "      <th>Lagging_Current_Power_Factor</th>\n",
              "      <th>Leading_Current_Power_Factor</th>\n",
              "      <th>NSM</th>\n",
              "    </tr>\n",
              "  </thead>\n",
              "  <tbody>\n",
              "    <tr>\n",
              "      <th>0</th>\n",
              "      <td>3.17</td>\n",
              "      <td>2.95</td>\n",
              "      <td>0.0</td>\n",
              "      <td>0.0</td>\n",
              "      <td>73.21</td>\n",
              "      <td>100.0</td>\n",
              "      <td>900</td>\n",
              "    </tr>\n",
              "    <tr>\n",
              "      <th>1</th>\n",
              "      <td>4.00</td>\n",
              "      <td>4.46</td>\n",
              "      <td>0.0</td>\n",
              "      <td>0.0</td>\n",
              "      <td>66.77</td>\n",
              "      <td>100.0</td>\n",
              "      <td>1800</td>\n",
              "    </tr>\n",
              "    <tr>\n",
              "      <th>2</th>\n",
              "      <td>3.24</td>\n",
              "      <td>3.28</td>\n",
              "      <td>0.0</td>\n",
              "      <td>0.0</td>\n",
              "      <td>70.28</td>\n",
              "      <td>100.0</td>\n",
              "      <td>2700</td>\n",
              "    </tr>\n",
              "    <tr>\n",
              "      <th>3</th>\n",
              "      <td>3.31</td>\n",
              "      <td>3.56</td>\n",
              "      <td>0.0</td>\n",
              "      <td>0.0</td>\n",
              "      <td>68.09</td>\n",
              "      <td>100.0</td>\n",
              "      <td>3600</td>\n",
              "    </tr>\n",
              "    <tr>\n",
              "      <th>4</th>\n",
              "      <td>3.82</td>\n",
              "      <td>4.50</td>\n",
              "      <td>0.0</td>\n",
              "      <td>0.0</td>\n",
              "      <td>64.72</td>\n",
              "      <td>100.0</td>\n",
              "      <td>4500</td>\n",
              "    </tr>\n",
              "  </tbody>\n",
              "</table>\n",
              "</div>"
            ],
            "text/plain": [
              "   Usage_kWh  Lagging_Current_Reactive.Power_kVarh  \\\n",
              "0       3.17                                  2.95   \n",
              "1       4.00                                  4.46   \n",
              "2       3.24                                  3.28   \n",
              "3       3.31                                  3.56   \n",
              "4       3.82                                  4.50   \n",
              "\n",
              "   Leading_Current_Reactive_Power_kVarh  CO2(tCO2)  \\\n",
              "0                                   0.0        0.0   \n",
              "1                                   0.0        0.0   \n",
              "2                                   0.0        0.0   \n",
              "3                                   0.0        0.0   \n",
              "4                                   0.0        0.0   \n",
              "\n",
              "   Lagging_Current_Power_Factor  Leading_Current_Power_Factor   NSM  \n",
              "0                         73.21                         100.0   900  \n",
              "1                         66.77                         100.0  1800  \n",
              "2                         70.28                         100.0  2700  \n",
              "3                         68.09                         100.0  3600  \n",
              "4                         64.72                         100.0  4500  "
            ]
          },
          "execution_count": 20,
          "metadata": {},
          "output_type": "execute_result"
        }
      ],
      "source": [
        "\n",
        "data = data.drop(columns=[data.columns[-1]])\n",
        "\n",
        "data.head()"
      ]
    },
    {
      "cell_type": "code",
      "execution_count": 21,
      "metadata": {
        "id": "AOf8tCy5moMk"
      },
      "outputs": [],
      "source": [
        "from sklearn.preprocessing import StandardScaler\n",
        "import scipy\n",
        "\n",
        "scaler = StandardScaler()\n",
        "\n",
        "normalized_df = scaler.fit_transform(data)\n",
        "\n",
        "normalized_df = pd.DataFrame(normalized_df, columns=data.columns)\n"
      ]
    },
    {
      "cell_type": "code",
      "execution_count": 22,
      "metadata": {
        "id": "HAsUeTevhtDD"
      },
      "outputs": [],
      "source": [
        "\n",
        "samples = []\n",
        "for i in range(10):\n",
        "    X_train, X_test, y_train, y_test = train_test_split(normalized_df, y, test_size=0.3, random_state=i)\n",
        "    samples.append((X_train, X_test, y_train, y_test))"
      ]
    },
    {
      "cell_type": "code",
      "execution_count": 23,
      "metadata": {
        "colab": {
          "base_uri": "https://localhost:8080/",
          "height": 206
        },
        "id": "VSuTliKpjo3p",
        "outputId": "90fcefe6-8bc5-42e0-fcdc-737fbdfdcf4b"
      },
      "outputs": [
        {
          "data": {
            "text/html": [
              "<div>\n",
              "<style scoped>\n",
              "    .dataframe tbody tr th:only-of-type {\n",
              "        vertical-align: middle;\n",
              "    }\n",
              "\n",
              "    .dataframe tbody tr th {\n",
              "        vertical-align: top;\n",
              "    }\n",
              "\n",
              "    .dataframe thead th {\n",
              "        text-align: right;\n",
              "    }\n",
              "</style>\n",
              "<table border=\"1\" class=\"dataframe\">\n",
              "  <thead>\n",
              "    <tr style=\"text-align: right;\">\n",
              "      <th></th>\n",
              "      <th>0</th>\n",
              "      <th>1</th>\n",
              "      <th>2</th>\n",
              "      <th>3</th>\n",
              "    </tr>\n",
              "  </thead>\n",
              "  <tbody>\n",
              "    <tr>\n",
              "      <th>0</th>\n",
              "      <td>Usage_kWh  Lagging_Current_Reactive.Pow...</td>\n",
              "      <td>Usage_kWh  Lagging_Current_Reactive.Pow...</td>\n",
              "      <td>5911     Maximum_Load\n",
              "6803      Medium_Load\n",
              "13...</td>\n",
              "      <td>11279    Maximum_Load\n",
              "2473     Maximum_Load\n",
              "48...</td>\n",
              "    </tr>\n",
              "    <tr>\n",
              "      <th>1</th>\n",
              "      <td>Usage_kWh  Lagging_Current_Reactive.Pow...</td>\n",
              "      <td>Usage_kWh  Lagging_Current_Reactive.Pow...</td>\n",
              "      <td>13076      Light_Load\n",
              "2814       Light_Load\n",
              "14...</td>\n",
              "      <td>858      Maximum_Load\n",
              "2364      Medium_Load\n",
              "57...</td>\n",
              "    </tr>\n",
              "    <tr>\n",
              "      <th>2</th>\n",
              "      <td>Usage_kWh  Lagging_Current_Reactive.Pow...</td>\n",
              "      <td>Usage_kWh  Lagging_Current_Reactive.Pow...</td>\n",
              "      <td>8828       Light_Load\n",
              "3248      Medium_Load\n",
              "13...</td>\n",
              "      <td>166      Maximum_Load\n",
              "12600      Light_Load\n",
              "48...</td>\n",
              "    </tr>\n",
              "    <tr>\n",
              "      <th>3</th>\n",
              "      <td>Usage_kWh  Lagging_Current_Reactive.Pow...</td>\n",
              "      <td>Usage_kWh  Lagging_Current_Reactive.Pow...</td>\n",
              "      <td>12496      Light_Load\n",
              "11049      Light_Load\n",
              "10...</td>\n",
              "      <td>13297     Medium_Load\n",
              "948       Medium_Load\n",
              "92...</td>\n",
              "    </tr>\n",
              "    <tr>\n",
              "      <th>4</th>\n",
              "      <td>Usage_kWh  Lagging_Current_Reactive.Pow...</td>\n",
              "      <td>Usage_kWh  Lagging_Current_Reactive.Pow...</td>\n",
              "      <td>2749      Medium_Load\n",
              "14797      Light_Load\n",
              "14...</td>\n",
              "      <td>2712       Light_Load\n",
              "4912       Light_Load\n",
              "98...</td>\n",
              "    </tr>\n",
              "  </tbody>\n",
              "</table>\n",
              "</div>"
            ],
            "text/plain": [
              "                                                   0  \\\n",
              "0         Usage_kWh  Lagging_Current_Reactive.Pow...   \n",
              "1         Usage_kWh  Lagging_Current_Reactive.Pow...   \n",
              "2         Usage_kWh  Lagging_Current_Reactive.Pow...   \n",
              "3         Usage_kWh  Lagging_Current_Reactive.Pow...   \n",
              "4         Usage_kWh  Lagging_Current_Reactive.Pow...   \n",
              "\n",
              "                                                   1  \\\n",
              "0         Usage_kWh  Lagging_Current_Reactive.Pow...   \n",
              "1         Usage_kWh  Lagging_Current_Reactive.Pow...   \n",
              "2         Usage_kWh  Lagging_Current_Reactive.Pow...   \n",
              "3         Usage_kWh  Lagging_Current_Reactive.Pow...   \n",
              "4         Usage_kWh  Lagging_Current_Reactive.Pow...   \n",
              "\n",
              "                                                   2  \\\n",
              "0  5911     Maximum_Load\n",
              "6803      Medium_Load\n",
              "13...   \n",
              "1  13076      Light_Load\n",
              "2814       Light_Load\n",
              "14...   \n",
              "2  8828       Light_Load\n",
              "3248      Medium_Load\n",
              "13...   \n",
              "3  12496      Light_Load\n",
              "11049      Light_Load\n",
              "10...   \n",
              "4  2749      Medium_Load\n",
              "14797      Light_Load\n",
              "14...   \n",
              "\n",
              "                                                   3  \n",
              "0  11279    Maximum_Load\n",
              "2473     Maximum_Load\n",
              "48...  \n",
              "1  858      Maximum_Load\n",
              "2364      Medium_Load\n",
              "57...  \n",
              "2  166      Maximum_Load\n",
              "12600      Light_Load\n",
              "48...  \n",
              "3  13297     Medium_Load\n",
              "948       Medium_Load\n",
              "92...  \n",
              "4  2712       Light_Load\n",
              "4912       Light_Load\n",
              "98...  "
            ]
          },
          "execution_count": 23,
          "metadata": {},
          "output_type": "execute_result"
        }
      ],
      "source": [
        "df = pd.DataFrame(samples)\n",
        "\n",
        "df.head()"
      ]
    },
    {
      "cell_type": "code",
      "execution_count": 24,
      "metadata": {
        "id": "OQFW5SADi9_z"
      },
      "outputs": [],
      "source": [
        "kernels = ['linear', 'poly', 'rbf', 'sigmoid']\n",
        "result = pd.DataFrame(columns=['Sample', 'Best Accuracy', 'Best Kernel', 'Best Nu', 'Best Epsilon'])\n",
        "     \n",
        "     "
      ]
    },
    {
      "cell_type": "code",
      "execution_count": 25,
      "metadata": {
        "id": "0tYqYiaBjAWP"
      },
      "outputs": [],
      "source": [
        "def fitnessFunction(kernel, C, gamma):\n",
        "  svm = SVC(kernel=kernel, C=C, gamma=gamma, max_iter=1000)\n",
        "  svm.fit(X_train, y_train)\n",
        "  y_pred = svm.predict(X_test)\n",
        "  return accuracy_score(y_pred, y_test)"
      ]
    },
    {
      "cell_type": "code",
      "execution_count": 26,
      "metadata": {
        "colab": {
          "base_uri": "https://localhost:8080/"
        },
        "id": "EJ83K8KGjV7V",
        "outputId": "6289eccc-b42d-4fd3-f283-b90816f8b0e1"
      },
      "outputs": [
        {
          "name": "stderr",
          "output_type": "stream",
          "text": [
            "c:\\Users\\rahul\\AppData\\Local\\Programs\\Python\\Python311\\Lib\\site-packages\\sklearn\\svm\\_base.py:299: ConvergenceWarning: Solver terminated early (max_iter=1000).  Consider pre-processing your data with StandardScaler or MinMaxScaler.\n",
            "  warnings.warn(\n",
            "c:\\Users\\rahul\\AppData\\Local\\Programs\\Python\\Python311\\Lib\\site-packages\\sklearn\\svm\\_base.py:299: ConvergenceWarning: Solver terminated early (max_iter=1000).  Consider pre-processing your data with StandardScaler or MinMaxScaler.\n",
            "  warnings.warn(\n",
            "c:\\Users\\rahul\\AppData\\Local\\Programs\\Python\\Python311\\Lib\\site-packages\\sklearn\\svm\\_base.py:299: ConvergenceWarning: Solver terminated early (max_iter=1000).  Consider pre-processing your data with StandardScaler or MinMaxScaler.\n",
            "  warnings.warn(\n",
            "c:\\Users\\rahul\\AppData\\Local\\Programs\\Python\\Python311\\Lib\\site-packages\\sklearn\\svm\\_base.py:299: ConvergenceWarning: Solver terminated early (max_iter=1000).  Consider pre-processing your data with StandardScaler or MinMaxScaler.\n",
            "  warnings.warn(\n"
          ]
        },
        {
          "name": "stdout",
          "output_type": "stream",
          "text": [
            "Best Accuracy: 0.86, Best Kernel: rbf, Best C: 6.62, Best Gamma: 1.98\n"
          ]
        },
        {
          "name": "stderr",
          "output_type": "stream",
          "text": [
            "c:\\Users\\rahul\\AppData\\Local\\Programs\\Python\\Python311\\Lib\\site-packages\\sklearn\\svm\\_base.py:299: ConvergenceWarning: Solver terminated early (max_iter=1000).  Consider pre-processing your data with StandardScaler or MinMaxScaler.\n",
            "  warnings.warn(\n",
            "c:\\Users\\rahul\\AppData\\Local\\Programs\\Python\\Python311\\Lib\\site-packages\\sklearn\\svm\\_base.py:299: ConvergenceWarning: Solver terminated early (max_iter=1000).  Consider pre-processing your data with StandardScaler or MinMaxScaler.\n",
            "  warnings.warn(\n",
            "c:\\Users\\rahul\\AppData\\Local\\Programs\\Python\\Python311\\Lib\\site-packages\\sklearn\\svm\\_base.py:299: ConvergenceWarning: Solver terminated early (max_iter=1000).  Consider pre-processing your data with StandardScaler or MinMaxScaler.\n",
            "  warnings.warn(\n",
            "c:\\Users\\rahul\\AppData\\Local\\Programs\\Python\\Python311\\Lib\\site-packages\\sklearn\\svm\\_base.py:299: ConvergenceWarning: Solver terminated early (max_iter=1000).  Consider pre-processing your data with StandardScaler or MinMaxScaler.\n",
            "  warnings.warn(\n"
          ]
        },
        {
          "name": "stdout",
          "output_type": "stream",
          "text": [
            "Best Accuracy: 0.87, Best Kernel: rbf, Best C: 4.63, Best Gamma: 8.38\n"
          ]
        },
        {
          "name": "stderr",
          "output_type": "stream",
          "text": [
            "c:\\Users\\rahul\\AppData\\Local\\Programs\\Python\\Python311\\Lib\\site-packages\\sklearn\\svm\\_base.py:299: ConvergenceWarning: Solver terminated early (max_iter=1000).  Consider pre-processing your data with StandardScaler or MinMaxScaler.\n",
            "  warnings.warn(\n",
            "c:\\Users\\rahul\\AppData\\Local\\Programs\\Python\\Python311\\Lib\\site-packages\\sklearn\\svm\\_base.py:299: ConvergenceWarning: Solver terminated early (max_iter=1000).  Consider pre-processing your data with StandardScaler or MinMaxScaler.\n",
            "  warnings.warn(\n",
            "c:\\Users\\rahul\\AppData\\Local\\Programs\\Python\\Python311\\Lib\\site-packages\\sklearn\\svm\\_base.py:299: ConvergenceWarning: Solver terminated early (max_iter=1000).  Consider pre-processing your data with StandardScaler or MinMaxScaler.\n",
            "  warnings.warn(\n",
            "c:\\Users\\rahul\\AppData\\Local\\Programs\\Python\\Python311\\Lib\\site-packages\\sklearn\\svm\\_base.py:299: ConvergenceWarning: Solver terminated early (max_iter=1000).  Consider pre-processing your data with StandardScaler or MinMaxScaler.\n",
            "  warnings.warn(\n"
          ]
        },
        {
          "name": "stdout",
          "output_type": "stream",
          "text": [
            "Best Accuracy: 0.87, Best Kernel: rbf, Best C: 1.89, Best Gamma: 7.0\n"
          ]
        },
        {
          "name": "stderr",
          "output_type": "stream",
          "text": [
            "c:\\Users\\rahul\\AppData\\Local\\Programs\\Python\\Python311\\Lib\\site-packages\\sklearn\\svm\\_base.py:299: ConvergenceWarning: Solver terminated early (max_iter=1000).  Consider pre-processing your data with StandardScaler or MinMaxScaler.\n",
            "  warnings.warn(\n",
            "c:\\Users\\rahul\\AppData\\Local\\Programs\\Python\\Python311\\Lib\\site-packages\\sklearn\\svm\\_base.py:299: ConvergenceWarning: Solver terminated early (max_iter=1000).  Consider pre-processing your data with StandardScaler or MinMaxScaler.\n",
            "  warnings.warn(\n",
            "c:\\Users\\rahul\\AppData\\Local\\Programs\\Python\\Python311\\Lib\\site-packages\\sklearn\\svm\\_base.py:299: ConvergenceWarning: Solver terminated early (max_iter=1000).  Consider pre-processing your data with StandardScaler or MinMaxScaler.\n",
            "  warnings.warn(\n",
            "c:\\Users\\rahul\\AppData\\Local\\Programs\\Python\\Python311\\Lib\\site-packages\\sklearn\\svm\\_base.py:299: ConvergenceWarning: Solver terminated early (max_iter=1000).  Consider pre-processing your data with StandardScaler or MinMaxScaler.\n",
            "  warnings.warn(\n"
          ]
        },
        {
          "name": "stdout",
          "output_type": "stream",
          "text": [
            "Best Accuracy: 0.86, Best Kernel: rbf, Best C: 9.71, Best Gamma: 4.15\n"
          ]
        },
        {
          "name": "stderr",
          "output_type": "stream",
          "text": [
            "c:\\Users\\rahul\\AppData\\Local\\Programs\\Python\\Python311\\Lib\\site-packages\\sklearn\\svm\\_base.py:299: ConvergenceWarning: Solver terminated early (max_iter=1000).  Consider pre-processing your data with StandardScaler or MinMaxScaler.\n",
            "  warnings.warn(\n",
            "c:\\Users\\rahul\\AppData\\Local\\Programs\\Python\\Python311\\Lib\\site-packages\\sklearn\\svm\\_base.py:299: ConvergenceWarning: Solver terminated early (max_iter=1000).  Consider pre-processing your data with StandardScaler or MinMaxScaler.\n",
            "  warnings.warn(\n",
            "c:\\Users\\rahul\\AppData\\Local\\Programs\\Python\\Python311\\Lib\\site-packages\\sklearn\\svm\\_base.py:299: ConvergenceWarning: Solver terminated early (max_iter=1000).  Consider pre-processing your data with StandardScaler or MinMaxScaler.\n",
            "  warnings.warn(\n",
            "c:\\Users\\rahul\\AppData\\Local\\Programs\\Python\\Python311\\Lib\\site-packages\\sklearn\\svm\\_base.py:299: ConvergenceWarning: Solver terminated early (max_iter=1000).  Consider pre-processing your data with StandardScaler or MinMaxScaler.\n",
            "  warnings.warn(\n"
          ]
        },
        {
          "name": "stdout",
          "output_type": "stream",
          "text": [
            "Best Accuracy: 0.87, Best Kernel: rbf, Best C: 2.26, Best Gamma: 7.49\n"
          ]
        },
        {
          "name": "stderr",
          "output_type": "stream",
          "text": [
            "c:\\Users\\rahul\\AppData\\Local\\Programs\\Python\\Python311\\Lib\\site-packages\\sklearn\\svm\\_base.py:299: ConvergenceWarning: Solver terminated early (max_iter=1000).  Consider pre-processing your data with StandardScaler or MinMaxScaler.\n",
            "  warnings.warn(\n",
            "c:\\Users\\rahul\\AppData\\Local\\Programs\\Python\\Python311\\Lib\\site-packages\\sklearn\\svm\\_base.py:299: ConvergenceWarning: Solver terminated early (max_iter=1000).  Consider pre-processing your data with StandardScaler or MinMaxScaler.\n",
            "  warnings.warn(\n",
            "c:\\Users\\rahul\\AppData\\Local\\Programs\\Python\\Python311\\Lib\\site-packages\\sklearn\\svm\\_base.py:299: ConvergenceWarning: Solver terminated early (max_iter=1000).  Consider pre-processing your data with StandardScaler or MinMaxScaler.\n",
            "  warnings.warn(\n",
            "c:\\Users\\rahul\\AppData\\Local\\Programs\\Python\\Python311\\Lib\\site-packages\\sklearn\\svm\\_base.py:299: ConvergenceWarning: Solver terminated early (max_iter=1000).  Consider pre-processing your data with StandardScaler or MinMaxScaler.\n",
            "  warnings.warn(\n"
          ]
        },
        {
          "name": "stdout",
          "output_type": "stream",
          "text": [
            "Best Accuracy: 0.83, Best Kernel: rbf, Best C: 3.59, Best Gamma: 1.47\n"
          ]
        },
        {
          "name": "stderr",
          "output_type": "stream",
          "text": [
            "c:\\Users\\rahul\\AppData\\Local\\Programs\\Python\\Python311\\Lib\\site-packages\\sklearn\\svm\\_base.py:299: ConvergenceWarning: Solver terminated early (max_iter=1000).  Consider pre-processing your data with StandardScaler or MinMaxScaler.\n",
            "  warnings.warn(\n",
            "c:\\Users\\rahul\\AppData\\Local\\Programs\\Python\\Python311\\Lib\\site-packages\\sklearn\\svm\\_base.py:299: ConvergenceWarning: Solver terminated early (max_iter=1000).  Consider pre-processing your data with StandardScaler or MinMaxScaler.\n",
            "  warnings.warn(\n",
            "c:\\Users\\rahul\\AppData\\Local\\Programs\\Python\\Python311\\Lib\\site-packages\\sklearn\\svm\\_base.py:299: ConvergenceWarning: Solver terminated early (max_iter=1000).  Consider pre-processing your data with StandardScaler or MinMaxScaler.\n",
            "  warnings.warn(\n",
            "c:\\Users\\rahul\\AppData\\Local\\Programs\\Python\\Python311\\Lib\\site-packages\\sklearn\\svm\\_base.py:299: ConvergenceWarning: Solver terminated early (max_iter=1000).  Consider pre-processing your data with StandardScaler or MinMaxScaler.\n",
            "  warnings.warn(\n"
          ]
        },
        {
          "name": "stdout",
          "output_type": "stream",
          "text": [
            "Best Accuracy: 0.87, Best Kernel: rbf, Best C: 1.67, Best Gamma: 8.35\n"
          ]
        },
        {
          "name": "stderr",
          "output_type": "stream",
          "text": [
            "c:\\Users\\rahul\\AppData\\Local\\Programs\\Python\\Python311\\Lib\\site-packages\\sklearn\\svm\\_base.py:299: ConvergenceWarning: Solver terminated early (max_iter=1000).  Consider pre-processing your data with StandardScaler or MinMaxScaler.\n",
            "  warnings.warn(\n",
            "c:\\Users\\rahul\\AppData\\Local\\Programs\\Python\\Python311\\Lib\\site-packages\\sklearn\\svm\\_base.py:299: ConvergenceWarning: Solver terminated early (max_iter=1000).  Consider pre-processing your data with StandardScaler or MinMaxScaler.\n",
            "  warnings.warn(\n",
            "c:\\Users\\rahul\\AppData\\Local\\Programs\\Python\\Python311\\Lib\\site-packages\\sklearn\\svm\\_base.py:299: ConvergenceWarning: Solver terminated early (max_iter=1000).  Consider pre-processing your data with StandardScaler or MinMaxScaler.\n",
            "  warnings.warn(\n",
            "c:\\Users\\rahul\\AppData\\Local\\Programs\\Python\\Python311\\Lib\\site-packages\\sklearn\\svm\\_base.py:299: ConvergenceWarning: Solver terminated early (max_iter=1000).  Consider pre-processing your data with StandardScaler or MinMaxScaler.\n",
            "  warnings.warn(\n"
          ]
        },
        {
          "name": "stdout",
          "output_type": "stream",
          "text": [
            "Best Accuracy: 0.86, Best Kernel: rbf, Best C: 4.35, Best Gamma: 1.72\n"
          ]
        },
        {
          "name": "stderr",
          "output_type": "stream",
          "text": [
            "c:\\Users\\rahul\\AppData\\Local\\Programs\\Python\\Python311\\Lib\\site-packages\\sklearn\\svm\\_base.py:299: ConvergenceWarning: Solver terminated early (max_iter=1000).  Consider pre-processing your data with StandardScaler or MinMaxScaler.\n",
            "  warnings.warn(\n",
            "c:\\Users\\rahul\\AppData\\Local\\Programs\\Python\\Python311\\Lib\\site-packages\\sklearn\\svm\\_base.py:299: ConvergenceWarning: Solver terminated early (max_iter=1000).  Consider pre-processing your data with StandardScaler or MinMaxScaler.\n",
            "  warnings.warn(\n",
            "c:\\Users\\rahul\\AppData\\Local\\Programs\\Python\\Python311\\Lib\\site-packages\\sklearn\\svm\\_base.py:299: ConvergenceWarning: Solver terminated early (max_iter=1000).  Consider pre-processing your data with StandardScaler or MinMaxScaler.\n",
            "  warnings.warn(\n",
            "c:\\Users\\rahul\\AppData\\Local\\Programs\\Python\\Python311\\Lib\\site-packages\\sklearn\\svm\\_base.py:299: ConvergenceWarning: Solver terminated early (max_iter=1000).  Consider pre-processing your data with StandardScaler or MinMaxScaler.\n",
            "  warnings.warn(\n"
          ]
        },
        {
          "name": "stdout",
          "output_type": "stream",
          "text": [
            "Best Accuracy: 0.73, Best Kernel: rbf, Best C: 5.2, Best Gamma: 0.16\n"
          ]
        },
        {
          "name": "stderr",
          "output_type": "stream",
          "text": [
            "c:\\Users\\rahul\\AppData\\Local\\Programs\\Python\\Python311\\Lib\\site-packages\\sklearn\\svm\\_base.py:299: ConvergenceWarning: Solver terminated early (max_iter=1000).  Consider pre-processing your data with StandardScaler or MinMaxScaler.\n",
            "  warnings.warn(\n",
            "c:\\Users\\rahul\\AppData\\Local\\Programs\\Python\\Python311\\Lib\\site-packages\\sklearn\\svm\\_base.py:299: ConvergenceWarning: Solver terminated early (max_iter=1000).  Consider pre-processing your data with StandardScaler or MinMaxScaler.\n",
            "  warnings.warn(\n",
            "c:\\Users\\rahul\\AppData\\Local\\Programs\\Python\\Python311\\Lib\\site-packages\\sklearn\\svm\\_base.py:299: ConvergenceWarning: Solver terminated early (max_iter=1000).  Consider pre-processing your data with StandardScaler or MinMaxScaler.\n",
            "  warnings.warn(\n",
            "c:\\Users\\rahul\\AppData\\Local\\Programs\\Python\\Python311\\Lib\\site-packages\\sklearn\\svm\\_base.py:299: ConvergenceWarning: Solver terminated early (max_iter=1000).  Consider pre-processing your data with StandardScaler or MinMaxScaler.\n",
            "  warnings.warn(\n"
          ]
        },
        {
          "name": "stdout",
          "output_type": "stream",
          "text": [
            "Best Accuracy: 0.84, Best Kernel: rbf, Best C: 1.02, Best Gamma: 2.17\n"
          ]
        }
      ],
      "source": [
        "\n",
        "for i, sample in enumerate(samples):\n",
        "    best_accuracy = 0\n",
        "    best_C = 0\n",
        "    best_gamma = 0\n",
        "    for kernel in kernels:\n",
        "        X_train, X_test, y_train, y_test = sample\n",
        "        C = np.random.uniform(0, 10)\n",
        "        gamma = np.random.uniform(0, 10)\n",
        "        svm_model = SVC(kernel=kernel, C=C, gamma=gamma, max_iter=1000)\n",
        "        svm_model.fit(X_train, y_train)\n",
        "        y_pred = svm_model.predict(X_test)\n",
        "        accuracy = accuracy_score(y_test, y_pred)\n",
        "        if accuracy > best_accuracy:\n",
        "            best_accuracy = round(accuracy, 2)\n",
        "            best_C = round(C, 2)\n",
        "            best_gamma = round(gamma, 2)\n",
        "            best_kernel = kernel\n",
        "    print(f'Best Accuracy: {best_accuracy}, Best Kernel: {best_kernel}, Best C: {best_C}, Best Gamma: {best_gamma}')\n",
        "    result.loc[i] = [i+1, best_accuracy, best_kernel, best_C, best_gamma]\n"
      ]
    },
    {
      "cell_type": "code",
      "execution_count": 27,
      "metadata": {
        "colab": {
          "base_uri": "https://localhost:8080/",
          "height": 363
        },
        "id": "anE4ugC_keX_",
        "outputId": "c1d18721-9112-45f3-bc30-de2f8fbd003d"
      },
      "outputs": [
        {
          "data": {
            "text/html": [
              "<div>\n",
              "<style scoped>\n",
              "    .dataframe tbody tr th:only-of-type {\n",
              "        vertical-align: middle;\n",
              "    }\n",
              "\n",
              "    .dataframe tbody tr th {\n",
              "        vertical-align: top;\n",
              "    }\n",
              "\n",
              "    .dataframe thead th {\n",
              "        text-align: right;\n",
              "    }\n",
              "</style>\n",
              "<table border=\"1\" class=\"dataframe\">\n",
              "  <thead>\n",
              "    <tr style=\"text-align: right;\">\n",
              "      <th></th>\n",
              "      <th>Sample</th>\n",
              "      <th>Best Accuracy</th>\n",
              "      <th>Best Kernel</th>\n",
              "      <th>Best Nu</th>\n",
              "      <th>Best Epsilon</th>\n",
              "    </tr>\n",
              "  </thead>\n",
              "  <tbody>\n",
              "    <tr>\n",
              "      <th>0</th>\n",
              "      <td>1</td>\n",
              "      <td>0.86</td>\n",
              "      <td>rbf</td>\n",
              "      <td>6.62</td>\n",
              "      <td>1.98</td>\n",
              "    </tr>\n",
              "    <tr>\n",
              "      <th>1</th>\n",
              "      <td>2</td>\n",
              "      <td>0.87</td>\n",
              "      <td>rbf</td>\n",
              "      <td>4.63</td>\n",
              "      <td>8.38</td>\n",
              "    </tr>\n",
              "    <tr>\n",
              "      <th>2</th>\n",
              "      <td>3</td>\n",
              "      <td>0.87</td>\n",
              "      <td>rbf</td>\n",
              "      <td>1.89</td>\n",
              "      <td>7.00</td>\n",
              "    </tr>\n",
              "    <tr>\n",
              "      <th>3</th>\n",
              "      <td>4</td>\n",
              "      <td>0.86</td>\n",
              "      <td>rbf</td>\n",
              "      <td>9.71</td>\n",
              "      <td>4.15</td>\n",
              "    </tr>\n",
              "    <tr>\n",
              "      <th>4</th>\n",
              "      <td>5</td>\n",
              "      <td>0.87</td>\n",
              "      <td>rbf</td>\n",
              "      <td>2.26</td>\n",
              "      <td>7.49</td>\n",
              "    </tr>\n",
              "    <tr>\n",
              "      <th>5</th>\n",
              "      <td>6</td>\n",
              "      <td>0.83</td>\n",
              "      <td>rbf</td>\n",
              "      <td>3.59</td>\n",
              "      <td>1.47</td>\n",
              "    </tr>\n",
              "    <tr>\n",
              "      <th>6</th>\n",
              "      <td>7</td>\n",
              "      <td>0.87</td>\n",
              "      <td>rbf</td>\n",
              "      <td>1.67</td>\n",
              "      <td>8.35</td>\n",
              "    </tr>\n",
              "    <tr>\n",
              "      <th>7</th>\n",
              "      <td>8</td>\n",
              "      <td>0.86</td>\n",
              "      <td>rbf</td>\n",
              "      <td>4.35</td>\n",
              "      <td>1.72</td>\n",
              "    </tr>\n",
              "    <tr>\n",
              "      <th>8</th>\n",
              "      <td>9</td>\n",
              "      <td>0.73</td>\n",
              "      <td>rbf</td>\n",
              "      <td>5.20</td>\n",
              "      <td>0.16</td>\n",
              "    </tr>\n",
              "    <tr>\n",
              "      <th>9</th>\n",
              "      <td>10</td>\n",
              "      <td>0.84</td>\n",
              "      <td>rbf</td>\n",
              "      <td>1.02</td>\n",
              "      <td>2.17</td>\n",
              "    </tr>\n",
              "  </tbody>\n",
              "</table>\n",
              "</div>"
            ],
            "text/plain": [
              "   Sample  Best Accuracy Best Kernel  Best Nu  Best Epsilon\n",
              "0       1           0.86         rbf     6.62          1.98\n",
              "1       2           0.87         rbf     4.63          8.38\n",
              "2       3           0.87         rbf     1.89          7.00\n",
              "3       4           0.86         rbf     9.71          4.15\n",
              "4       5           0.87         rbf     2.26          7.49\n",
              "5       6           0.83         rbf     3.59          1.47\n",
              "6       7           0.87         rbf     1.67          8.35\n",
              "7       8           0.86         rbf     4.35          1.72\n",
              "8       9           0.73         rbf     5.20          0.16\n",
              "9      10           0.84         rbf     1.02          2.17"
            ]
          },
          "execution_count": 27,
          "metadata": {},
          "output_type": "execute_result"
        }
      ],
      "source": [
        "\n",
        "result"
      ]
    },
    {
      "cell_type": "code",
      "execution_count": 28,
      "metadata": {},
      "outputs": [],
      "source": [
        "max_accuracy_idx = result['Best Accuracy'].idxmax()\n",
        "X_train, X_test, y_train, y_test = samples[max_accuracy_idx]\n"
      ]
    },
    {
      "cell_type": "code",
      "execution_count": 29,
      "metadata": {
        "id": "DJBj2Ue3pjIy"
      },
      "outputs": [],
      "source": [
        "\n",
        "train_sizes, train_scores, test_scores = learning_curve(SVC(kernel=result['Best Kernel'].iloc[result['Best Accuracy'].idxmax()], \n",
        "                                                        C=result['Best Nu'].iloc[result['Best Accuracy'].idxmax()],\n",
        "                                                        gamma=result['Best Epsilon'].iloc[result['Best Accuracy'].idxmax()],\n",
        "                                                        max_iter = 1000), X_train, y_train, cv=10, scoring='accuracy', n_jobs=-1,\n",
        "                                                        train_sizes = np.linspace(0.01, 1.0, 50))\n",
        "     \n"
      ]
    },
    {
      "cell_type": "code",
      "execution_count": 30,
      "metadata": {
        "id": "SOl_R9BqpmBd"
      },
      "outputs": [],
      "source": [
        "train_mean = np.mean(train_scores, axis=1)\n",
        "\n",
        "     "
      ]
    },
    {
      "cell_type": "code",
      "execution_count": 31,
      "metadata": {
        "id": "wdXA76zXpoQ1"
      },
      "outputs": [
        {
          "name": "stderr",
          "output_type": "stream",
          "text": [
            "No artists with labels found to put in legend.  Note that artists whose label start with an underscore are ignored when legend() is called with no argument.\n"
          ]
        },
        {
          "data": {
            "image/png": "[encoded data removed]",
            "text/plain": [
              "<Figure size 600x600 with 1 Axes>"
            ]
          },
          "metadata": {},
          "output_type": "display_data"
        }
      ],
      "source": [
        "\n",
        "plt.figure(figsize=(6, 6))\n",
        "plt.plot(train_sizes, train_mean)\n",
        "plt.xlabel('Iterations')\n",
        "plt.ylabel('Accuracy')\n",
        "plt.legend(loc=\"best\")\n",
        "plt.show()"
      ]
    }
  ],
  "metadata": {
    "colab": {
      "provenance": []
    },
    "kernelspec": {
      "display_name": "Python 3",
      "name": "python3"
    },
    "language_info": {
      "codemirror_mode": {
        "name": "ipython",
        "version": 3
      },
      "file_extension": ".py",
      "mimetype": "text/x-python",
      "name": "python",
      "nbconvert_exporter": "python",
      "pygments_lexer": "ipython3",
      "version": "3.11.1"
    }
  },
  "nbformat": 4,
  "nbformat_minor": 0
}
